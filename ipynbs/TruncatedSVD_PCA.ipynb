{
 "cells": [
  {
   "cell_type": "code",
   "execution_count": 1,
   "metadata": {},
   "outputs": [],
   "source": [
    "import numpy as np\n",
    "import pandas as pd\n",
    "from sklearn.decomposition import TruncatedSVD"
   ]
  },
  {
   "cell_type": "code",
   "execution_count": 2,
   "metadata": {},
   "outputs": [],
   "source": [
    "X = pd.read_csv('scaled_dummy_reduced_df.csv', index_col=0)"
   ]
  },
  {
   "cell_type": "code",
   "execution_count": 3,
   "metadata": {},
   "outputs": [
    {
     "data": {
      "text/html": [
       "<div>\n",
       "<style scoped>\n",
       "    .dataframe tbody tr th:only-of-type {\n",
       "        vertical-align: middle;\n",
       "    }\n",
       "\n",
       "    .dataframe tbody tr th {\n",
       "        vertical-align: top;\n",
       "    }\n",
       "\n",
       "    .dataframe thead th {\n",
       "        text-align: right;\n",
       "    }\n",
       "</style>\n",
       "<table border=\"1\" class=\"dataframe\">\n",
       "  <thead>\n",
       "    <tr style=\"text-align: right;\">\n",
       "      <th></th>\n",
       "      <th>number_of_trips_taken</th>\n",
       "      <th>qtemphigh</th>\n",
       "      <th>qtemplow</th>\n",
       "      <th>qprecipitation</th>\n",
       "      <th>qday_Friday</th>\n",
       "      <th>qday_Monday</th>\n",
       "      <th>qday_Saturday</th>\n",
       "      <th>qday_Sunday</th>\n",
       "      <th>qday_Thursday</th>\n",
       "      <th>qday_Tuesday</th>\n",
       "      <th>...</th>\n",
       "      <th>qpurposerecode_Accompanying other traveler</th>\n",
       "      <th>qpurposerecode_Business</th>\n",
       "      <th>qpurposerecode_Commute to/from work</th>\n",
       "      <th>qpurposerecode_Dining</th>\n",
       "      <th>qpurposerecode_Medical visit (doctor's office)</th>\n",
       "      <th>qpurposerecode_Other</th>\n",
       "      <th>qpurposerecode_Personal errands</th>\n",
       "      <th>qpurposerecode_School</th>\n",
       "      <th>qpurposerecode_Shopping</th>\n",
       "      <th>qpurposerecode_Social/recreation</th>\n",
       "    </tr>\n",
       "  </thead>\n",
       "  <tbody>\n",
       "    <tr>\n",
       "      <td>0</td>\n",
       "      <td>-0.334052</td>\n",
       "      <td>0.468198</td>\n",
       "      <td>0.285697</td>\n",
       "      <td>-0.525553</td>\n",
       "      <td>0</td>\n",
       "      <td>0</td>\n",
       "      <td>0</td>\n",
       "      <td>1</td>\n",
       "      <td>0</td>\n",
       "      <td>0</td>\n",
       "      <td>...</td>\n",
       "      <td>0</td>\n",
       "      <td>0</td>\n",
       "      <td>0</td>\n",
       "      <td>0</td>\n",
       "      <td>0</td>\n",
       "      <td>0</td>\n",
       "      <td>0</td>\n",
       "      <td>1</td>\n",
       "      <td>0</td>\n",
       "      <td>0</td>\n",
       "    </tr>\n",
       "    <tr>\n",
       "      <td>1</td>\n",
       "      <td>-0.334052</td>\n",
       "      <td>-0.094033</td>\n",
       "      <td>-0.117786</td>\n",
       "      <td>-0.096172</td>\n",
       "      <td>0</td>\n",
       "      <td>0</td>\n",
       "      <td>1</td>\n",
       "      <td>0</td>\n",
       "      <td>0</td>\n",
       "      <td>0</td>\n",
       "      <td>...</td>\n",
       "      <td>0</td>\n",
       "      <td>0</td>\n",
       "      <td>1</td>\n",
       "      <td>0</td>\n",
       "      <td>0</td>\n",
       "      <td>0</td>\n",
       "      <td>0</td>\n",
       "      <td>0</td>\n",
       "      <td>0</td>\n",
       "      <td>0</td>\n",
       "    </tr>\n",
       "    <tr>\n",
       "      <td>2</td>\n",
       "      <td>-0.334052</td>\n",
       "      <td>-0.094033</td>\n",
       "      <td>-0.117786</td>\n",
       "      <td>-0.096172</td>\n",
       "      <td>0</td>\n",
       "      <td>0</td>\n",
       "      <td>1</td>\n",
       "      <td>0</td>\n",
       "      <td>0</td>\n",
       "      <td>0</td>\n",
       "      <td>...</td>\n",
       "      <td>0</td>\n",
       "      <td>0</td>\n",
       "      <td>0</td>\n",
       "      <td>0</td>\n",
       "      <td>0</td>\n",
       "      <td>0</td>\n",
       "      <td>0</td>\n",
       "      <td>0</td>\n",
       "      <td>0</td>\n",
       "      <td>1</td>\n",
       "    </tr>\n",
       "    <tr>\n",
       "      <td>3</td>\n",
       "      <td>0.135854</td>\n",
       "      <td>0.208707</td>\n",
       "      <td>0.228056</td>\n",
       "      <td>-0.525553</td>\n",
       "      <td>0</td>\n",
       "      <td>0</td>\n",
       "      <td>0</td>\n",
       "      <td>0</td>\n",
       "      <td>1</td>\n",
       "      <td>0</td>\n",
       "      <td>...</td>\n",
       "      <td>0</td>\n",
       "      <td>0</td>\n",
       "      <td>0</td>\n",
       "      <td>0</td>\n",
       "      <td>0</td>\n",
       "      <td>0</td>\n",
       "      <td>0</td>\n",
       "      <td>0</td>\n",
       "      <td>0</td>\n",
       "      <td>1</td>\n",
       "    </tr>\n",
       "    <tr>\n",
       "      <td>4</td>\n",
       "      <td>0.135854</td>\n",
       "      <td>0.208707</td>\n",
       "      <td>0.228056</td>\n",
       "      <td>-0.525553</td>\n",
       "      <td>0</td>\n",
       "      <td>0</td>\n",
       "      <td>0</td>\n",
       "      <td>0</td>\n",
       "      <td>1</td>\n",
       "      <td>0</td>\n",
       "      <td>...</td>\n",
       "      <td>0</td>\n",
       "      <td>0</td>\n",
       "      <td>0</td>\n",
       "      <td>0</td>\n",
       "      <td>0</td>\n",
       "      <td>0</td>\n",
       "      <td>0</td>\n",
       "      <td>0</td>\n",
       "      <td>0</td>\n",
       "      <td>1</td>\n",
       "    </tr>\n",
       "  </tbody>\n",
       "</table>\n",
       "<p>5 rows × 198 columns</p>\n",
       "</div>"
      ],
      "text/plain": [
       "   number_of_trips_taken  qtemphigh  qtemplow  qprecipitation  qday_Friday  \\\n",
       "0              -0.334052   0.468198  0.285697       -0.525553            0   \n",
       "1              -0.334052  -0.094033 -0.117786       -0.096172            0   \n",
       "2              -0.334052  -0.094033 -0.117786       -0.096172            0   \n",
       "3               0.135854   0.208707  0.228056       -0.525553            0   \n",
       "4               0.135854   0.208707  0.228056       -0.525553            0   \n",
       "\n",
       "   qday_Monday  qday_Saturday  qday_Sunday  qday_Thursday  qday_Tuesday  ...  \\\n",
       "0            0              0            1              0             0  ...   \n",
       "1            0              1            0              0             0  ...   \n",
       "2            0              1            0              0             0  ...   \n",
       "3            0              0            0              1             0  ...   \n",
       "4            0              0            0              1             0  ...   \n",
       "\n",
       "   qpurposerecode_Accompanying other traveler  qpurposerecode_Business  \\\n",
       "0                                           0                        0   \n",
       "1                                           0                        0   \n",
       "2                                           0                        0   \n",
       "3                                           0                        0   \n",
       "4                                           0                        0   \n",
       "\n",
       "   qpurposerecode_Commute to/from work  qpurposerecode_Dining  \\\n",
       "0                                    0                      0   \n",
       "1                                    1                      0   \n",
       "2                                    0                      0   \n",
       "3                                    0                      0   \n",
       "4                                    0                      0   \n",
       "\n",
       "   qpurposerecode_Medical visit (doctor's office)  qpurposerecode_Other  \\\n",
       "0                                               0                     0   \n",
       "1                                               0                     0   \n",
       "2                                               0                     0   \n",
       "3                                               0                     0   \n",
       "4                                               0                     0   \n",
       "\n",
       "   qpurposerecode_Personal errands  qpurposerecode_School  \\\n",
       "0                                0                      1   \n",
       "1                                0                      0   \n",
       "2                                0                      0   \n",
       "3                                0                      0   \n",
       "4                                0                      0   \n",
       "\n",
       "   qpurposerecode_Shopping  qpurposerecode_Social/recreation  \n",
       "0                        0                                 0  \n",
       "1                        0                                 0  \n",
       "2                        0                                 1  \n",
       "3                        0                                 1  \n",
       "4                        0                                 1  \n",
       "\n",
       "[5 rows x 198 columns]"
      ]
     },
     "execution_count": 3,
     "metadata": {},
     "output_type": "execute_result"
    }
   ],
   "source": [
    "X.head()"
   ]
  },
  {
   "cell_type": "code",
   "execution_count": 4,
   "metadata": {},
   "outputs": [],
   "source": [
    "#from sklearn documentation: https://scikit-learn.org/stable/modules/generated/sklearn.decomposition.TruncatedSVD.html#sklearn.decomposition.TruncatedSVD\n",
    "\n",
    "svd = TruncatedSVD(n_components=100, n_iter=7, random_state=42) #100 suggested by sklearn, not sure about other params\n",
    "\n"
   ]
  },
  {
   "cell_type": "code",
   "execution_count": 7,
   "metadata": {},
   "outputs": [
    {
     "data": {
      "text/plain": [
       "TruncatedSVD(algorithm='randomized', n_components=100, n_iter=7,\n",
       "             random_state=42, tol=0.0)"
      ]
     },
     "execution_count": 7,
     "metadata": {},
     "output_type": "execute_result"
    }
   ],
   "source": [
    "svd.fit(X)"
   ]
  },
  {
   "cell_type": "code",
   "execution_count": 8,
   "metadata": {},
   "outputs": [
    {
     "name": "stdout",
     "output_type": "stream",
     "text": [
      "[0.00488184 0.16135385 0.05836924 0.05686629 0.05508287 0.04280474\n",
      " 0.03790851 0.0343922  0.02905526 0.02435387 0.02214417 0.02026698\n",
      " 0.01878647 0.01765886 0.01688825 0.01514342 0.01377153 0.01268206\n",
      " 0.01199655 0.01186308 0.01182418 0.01128141 0.01092353 0.01059576\n",
      " 0.0100727  0.00968532 0.00891806 0.00867344 0.00843797 0.00833677\n",
      " 0.0080811  0.00783573 0.00781522 0.00776645 0.00740921 0.00720065\n",
      " 0.00697315 0.00678419 0.00642    0.00633986 0.00614265 0.00589455\n",
      " 0.00573785 0.00557672 0.00555606 0.00536738 0.00501957 0.00485847\n",
      " 0.00474348 0.00459475 0.00456054 0.00442921 0.00434525 0.00402746\n",
      " 0.00391087 0.00384843 0.00370075 0.00358691 0.00352588 0.00320034\n",
      " 0.00305316 0.0030308  0.00290148 0.00267957 0.00262217 0.00252755\n",
      " 0.00239429 0.00214659 0.00210115 0.0020298  0.00195338 0.00189663\n",
      " 0.00173006 0.00166894 0.00165189 0.00158614 0.00156449 0.00135885\n",
      " 0.00133251 0.00131838 0.0012008  0.00110641 0.00109001 0.00103461\n",
      " 0.00099867 0.00098281 0.00092683 0.00082717 0.0008248  0.00077529\n",
      " 0.00074744 0.00070606 0.0007038  0.00067679 0.00064662 0.00063683\n",
      " 0.00060735 0.00057837 0.00055621 0.00054506]\n"
     ]
    }
   ],
   "source": [
    "print(svd.explained_variance_ratio_)"
   ]
  },
  {
   "cell_type": "code",
   "execution_count": 9,
   "metadata": {},
   "outputs": [
    {
     "name": "stdout",
     "output_type": "stream",
     "text": [
      "[375.16001919 151.61846082  91.19141071  90.02232605  88.58710383\n",
      "  78.12125516  73.49044931  69.99968493  64.35987742  58.91317304\n",
      "  56.17348943  53.73490867  51.76695092  50.1627365   49.05220395\n",
      "  46.45279135  44.29490958  42.5112709   41.34266193  41.11266413\n",
      "  41.04384763  40.09506972  39.45037041  38.85405882  37.88248441\n",
      "  37.14660317  35.64502811  35.15278522  34.67218353  34.46362205\n",
      "  33.93129897  33.41239889  33.36818227  33.26399602  32.48988604\n",
      "  32.0293295   31.51978416  31.08931148  30.24344093  30.05410185\n",
      "  29.58302233  28.97931669  28.5932208   28.18716138  28.13490286\n",
      "  27.65308572  26.74209953  26.3094467   25.99648313  25.58558289\n",
      "  25.4900507   25.12048397  24.8810859   23.95397147  23.6047088\n",
      "  23.41552419  22.96217751  22.60591904  22.41295873  21.35307783\n",
      "  20.85630884  20.77976845  20.33167085  19.53866968  19.32829734\n",
      "  18.97632791  18.4693126   17.48785556  17.30183703  17.00545042\n",
      "  16.68229354  16.43822141  15.69979281  15.41992853  15.34096687\n",
      "  15.03253419  14.92962148  13.91388239  13.77836846  13.70510235\n",
      "  13.07972147  12.55512445  12.46170285  12.14087421  11.92812954\n",
      "  11.8330546   11.49110901  10.85572649  10.84016446  10.50976764\n",
      "  10.31930615  10.02961626  10.01355109   9.81951885   9.59809526\n",
      "   9.52523898   9.30212778   9.07743341   8.90190023   8.81222876]\n"
     ]
    }
   ],
   "source": [
    "print(svd.singular_values_)"
   ]
  },
  {
   "cell_type": "code",
   "execution_count": 10,
   "metadata": {},
   "outputs": [
    {
     "data": {
      "text/plain": [
       "array([[ 3.61419830e+00, -6.00998086e-01, -1.65449657e-01, ...,\n",
       "         1.18265124e-02, -9.54965944e-02,  3.81131649e-01],\n",
       "       [ 4.48591700e+00,  1.60388792e-01, -4.58955839e-01, ...,\n",
       "         1.76508909e-03, -1.49114645e-01, -2.28454040e-02],\n",
       "       [ 4.25690262e+00,  1.41791108e-01, -2.82074082e-01, ...,\n",
       "        -1.01260808e-02, -1.17067113e-01, -2.97939139e-01],\n",
       "       ...,\n",
       "       [ 4.13388339e+00, -1.39868984e-01,  5.62864131e+00, ...,\n",
       "        -4.06057578e-02,  2.38614066e-02, -2.46812451e-03],\n",
       "       [ 4.24914467e+00, -2.75290571e-01,  5.08139718e+00, ...,\n",
       "        -1.92020176e-02, -9.60937656e-03, -4.03680624e-03],\n",
       "       [ 4.33383544e+00, -1.02139234e-01,  5.27229777e+00, ...,\n",
       "        -2.98352732e-02,  1.66195071e-02, -1.47819339e-01]])"
      ]
     },
     "execution_count": 10,
     "metadata": {},
     "output_type": "execute_result"
    }
   ],
   "source": [
    "svd.fit_transform(X)"
   ]
  },
  {
   "cell_type": "code",
   "execution_count": 13,
   "metadata": {},
   "outputs": [
    {
     "ename": "ValueError",
     "evalue": "The truth value of a DataFrame is ambiguous. Use a.empty, a.bool(), a.item(), a.any() or a.all().",
     "output_type": "error",
     "traceback": [
      "\u001b[0;31m---------------------------------------------------------------------------\u001b[0m",
      "\u001b[0;31mValueError\u001b[0m                                Traceback (most recent call last)",
      "\u001b[0;32m<ipython-input-13-ae4a8fd0f7d7>\u001b[0m in \u001b[0;36m<module>\u001b[0;34m\u001b[0m\n\u001b[0;32m----> 1\u001b[0;31m \u001b[0msvd\u001b[0m\u001b[0;34m.\u001b[0m\u001b[0mget_params\u001b[0m\u001b[0;34m(\u001b[0m\u001b[0mX\u001b[0m\u001b[0;34m)\u001b[0m\u001b[0;34m\u001b[0m\u001b[0;34m\u001b[0m\u001b[0m\n\u001b[0m",
      "\u001b[0;32m~/opt/anaconda3/lib/python3.7/site-packages/sklearn/base.py\u001b[0m in \u001b[0;36mget_params\u001b[0;34m(self, deep)\u001b[0m\n\u001b[1;32m    192\u001b[0m         \u001b[0;32mfor\u001b[0m \u001b[0mkey\u001b[0m \u001b[0;32min\u001b[0m \u001b[0mself\u001b[0m\u001b[0;34m.\u001b[0m\u001b[0m_get_param_names\u001b[0m\u001b[0;34m(\u001b[0m\u001b[0;34m)\u001b[0m\u001b[0;34m:\u001b[0m\u001b[0;34m\u001b[0m\u001b[0;34m\u001b[0m\u001b[0m\n\u001b[1;32m    193\u001b[0m             \u001b[0mvalue\u001b[0m \u001b[0;34m=\u001b[0m \u001b[0mgetattr\u001b[0m\u001b[0;34m(\u001b[0m\u001b[0mself\u001b[0m\u001b[0;34m,\u001b[0m \u001b[0mkey\u001b[0m\u001b[0;34m,\u001b[0m \u001b[0;32mNone\u001b[0m\u001b[0;34m)\u001b[0m\u001b[0;34m\u001b[0m\u001b[0;34m\u001b[0m\u001b[0m\n\u001b[0;32m--> 194\u001b[0;31m             \u001b[0;32mif\u001b[0m \u001b[0mdeep\u001b[0m \u001b[0;32mand\u001b[0m \u001b[0mhasattr\u001b[0m\u001b[0;34m(\u001b[0m\u001b[0mvalue\u001b[0m\u001b[0;34m,\u001b[0m \u001b[0;34m'get_params'\u001b[0m\u001b[0;34m)\u001b[0m\u001b[0;34m:\u001b[0m\u001b[0;34m\u001b[0m\u001b[0;34m\u001b[0m\u001b[0m\n\u001b[0m\u001b[1;32m    195\u001b[0m                 \u001b[0mdeep_items\u001b[0m \u001b[0;34m=\u001b[0m \u001b[0mvalue\u001b[0m\u001b[0;34m.\u001b[0m\u001b[0mget_params\u001b[0m\u001b[0;34m(\u001b[0m\u001b[0;34m)\u001b[0m\u001b[0;34m.\u001b[0m\u001b[0mitems\u001b[0m\u001b[0;34m(\u001b[0m\u001b[0;34m)\u001b[0m\u001b[0;34m\u001b[0m\u001b[0;34m\u001b[0m\u001b[0m\n\u001b[1;32m    196\u001b[0m                 \u001b[0mout\u001b[0m\u001b[0;34m.\u001b[0m\u001b[0mupdate\u001b[0m\u001b[0;34m(\u001b[0m\u001b[0;34m(\u001b[0m\u001b[0mkey\u001b[0m \u001b[0;34m+\u001b[0m \u001b[0;34m'__'\u001b[0m \u001b[0;34m+\u001b[0m \u001b[0mk\u001b[0m\u001b[0;34m,\u001b[0m \u001b[0mval\u001b[0m\u001b[0;34m)\u001b[0m \u001b[0;32mfor\u001b[0m \u001b[0mk\u001b[0m\u001b[0;34m,\u001b[0m \u001b[0mval\u001b[0m \u001b[0;32min\u001b[0m \u001b[0mdeep_items\u001b[0m\u001b[0;34m)\u001b[0m\u001b[0;34m\u001b[0m\u001b[0;34m\u001b[0m\u001b[0m\n",
      "\u001b[0;32m~/opt/anaconda3/lib/python3.7/site-packages/pandas/core/generic.py\u001b[0m in \u001b[0;36m__nonzero__\u001b[0;34m(self)\u001b[0m\n\u001b[1;32m   1553\u001b[0m             \u001b[0;34m\"The truth value of a {0} is ambiguous. \"\u001b[0m\u001b[0;34m\u001b[0m\u001b[0;34m\u001b[0m\u001b[0m\n\u001b[1;32m   1554\u001b[0m             \"Use a.empty, a.bool(), a.item(), a.any() or a.all().\".format(\n\u001b[0;32m-> 1555\u001b[0;31m                 \u001b[0mself\u001b[0m\u001b[0;34m.\u001b[0m\u001b[0m__class__\u001b[0m\u001b[0;34m.\u001b[0m\u001b[0m__name__\u001b[0m\u001b[0;34m\u001b[0m\u001b[0;34m\u001b[0m\u001b[0m\n\u001b[0m\u001b[1;32m   1556\u001b[0m             )\n\u001b[1;32m   1557\u001b[0m         )\n",
      "\u001b[0;31mValueError\u001b[0m: The truth value of a DataFrame is ambiguous. Use a.empty, a.bool(), a.item(), a.any() or a.all()."
     ]
    }
   ],
   "source": [
    "svd.get_params(X)"
   ]
  },
  {
   "cell_type": "code",
   "execution_count": 28,
   "metadata": {
    "collapsed": true
   },
   "outputs": [
    {
     "ename": "ValueError",
     "evalue": "shapes (7914,272) and (100,272) not aligned: 272 (dim 1) != 100 (dim 0)",
     "output_type": "error",
     "traceback": [
      "\u001b[0;31m---------------------------------------------------------------------------\u001b[0m",
      "\u001b[0;31mValueError\u001b[0m                                Traceback (most recent call last)",
      "\u001b[0;32m<ipython-input-28-5f52d2e3e986>\u001b[0m in \u001b[0;36m<module>\u001b[0;34m\u001b[0m\n\u001b[0;32m----> 1\u001b[0;31m \u001b[0msvd\u001b[0m\u001b[0;34m.\u001b[0m\u001b[0minverse_transform\u001b[0m\u001b[0;34m(\u001b[0m\u001b[0mX\u001b[0m\u001b[0;34m)\u001b[0m\u001b[0;34m\u001b[0m\u001b[0;34m\u001b[0m\u001b[0m\n\u001b[0m",
      "\u001b[0;32m~/opt/anaconda3/lib/python3.7/site-packages/sklearn/decomposition/truncated_svd.py\u001b[0m in \u001b[0;36minverse_transform\u001b[0;34m(self, X)\u001b[0m\n\u001b[1;32m    227\u001b[0m         \"\"\"\n\u001b[1;32m    228\u001b[0m         \u001b[0mX\u001b[0m \u001b[0;34m=\u001b[0m \u001b[0mcheck_array\u001b[0m\u001b[0;34m(\u001b[0m\u001b[0mX\u001b[0m\u001b[0;34m)\u001b[0m\u001b[0;34m\u001b[0m\u001b[0;34m\u001b[0m\u001b[0m\n\u001b[0;32m--> 229\u001b[0;31m         \u001b[0;32mreturn\u001b[0m \u001b[0mnp\u001b[0m\u001b[0;34m.\u001b[0m\u001b[0mdot\u001b[0m\u001b[0;34m(\u001b[0m\u001b[0mX\u001b[0m\u001b[0;34m,\u001b[0m \u001b[0mself\u001b[0m\u001b[0;34m.\u001b[0m\u001b[0mcomponents_\u001b[0m\u001b[0;34m)\u001b[0m\u001b[0;34m\u001b[0m\u001b[0;34m\u001b[0m\u001b[0m\n\u001b[0m",
      "\u001b[0;32m<__array_function__ internals>\u001b[0m in \u001b[0;36mdot\u001b[0;34m(*args, **kwargs)\u001b[0m\n",
      "\u001b[0;31mValueError\u001b[0m: shapes (7914,272) and (100,272) not aligned: 272 (dim 1) != 100 (dim 0)"
     ]
    }
   ],
   "source": [
    "svd.inverse_transform(X)"
   ]
  },
  {
   "cell_type": "code",
   "execution_count": null,
   "metadata": {},
   "outputs": [],
   "source": []
  }
 ],
 "metadata": {
  "kernelspec": {
   "display_name": "Python 3",
   "language": "python",
   "name": "python3"
  },
  "language_info": {
   "codemirror_mode": {
    "name": "ipython",
    "version": 3
   },
   "file_extension": ".py",
   "mimetype": "text/x-python",
   "name": "python",
   "nbconvert_exporter": "python",
   "pygments_lexer": "ipython3",
   "version": "3.7.4"
  }
 },
 "nbformat": 4,
 "nbformat_minor": 2
}
